{
  "cells": [
    {
      "cell_type": "markdown",
      "metadata": {
        "id": "view-in-github",
        "colab_type": "text"
      },
      "source": [
        "<a href=\"https://colab.research.google.com/github/AndreaPardoGis/Machine.Learning/blob/main/M2U1_2_Datasets_sint%C3%A9ticos.ipynb\" target=\"_parent\"><img src=\"https://colab.research.google.com/assets/colab-badge.svg\" alt=\"Open In Colab\"/></a>"
      ]
    },
    {
      "cell_type": "markdown",
      "id": "c0ae2b82-6c66-4298-af76-72364ff94e03",
      "metadata": {
        "id": "c0ae2b82-6c66-4298-af76-72364ff94e03"
      },
      "source": [
        "# Regresión lineal multivariable: Datasets sintéticos\n",
        "M2U1 - Ejercicio 2\n",
        "\n",
        "## ¿Qué vamos a hacer?\n",
        "- Crear un dataset sintético (artificial) con Numpy\n",
        "- Crear un dataset sintético con un término de error aleatorio\n",
        "- Crear un dataset sintético con parámetros no considerados\n",
        "- Crear un dataset sintético con Scikit-learn\n",
        "\n",
        "Recuerda seguir las instrucciones para las entregas de prácticas indicadas en [Instrucciones entregas](https://github.com/Tokio-School/Machine-Learning/blob/main/Instrucciones%20entregas.md)."
      ]
    },
    {
      "cell_type": "markdown",
      "id": "6ca79148-5ed3-46e6-8491-47e145c7c6b3",
      "metadata": {
        "id": "6ca79148-5ed3-46e6-8491-47e145c7c6b3"
      },
      "source": [
        "## Instrucciones\n",
        "\n",
        "Un dataset sintético es un dataset de ejemplo creado artificialmente. Estos datasets son muy útiles para comprobar algoritmos y nuestra implementación, ya que podremos controlar las características del dataset en todo momento.\n",
        "\n",
        "Del mismo modo, ya que la influencia del dataset de entrenamiento y su limpieza, preprocesamiento, etc., son claves para el entrenamiento de modelos de ML, cuando vamos a realizar una implementación por primera vez no sería difícil encontrar múltiples datasets con características controladas y, en especial, estar seguro de si los posibles errores en el entrenamiento están provocados por nuestra implementación o por los datos de origen.\n",
        "\n",
        "Completa el código de las siguientes celdas según las instrucciones para crear los diferentes datasets sintéticos."
      ]
    },
    {
      "cell_type": "code",
      "execution_count": null,
      "id": "eeb48472-fd3c-402e-a0f1-6f37de0a39fc",
      "metadata": {
        "id": "eeb48472-fd3c-402e-a0f1-6f37de0a39fc"
      },
      "outputs": [],
      "source": [
        "import numpy as np\n",
        "\n",
        "from matplotlib import pyplot as plt"
      ]
    },
    {
      "cell_type": "markdown",
      "id": "79261e41-cb48-4c27-b2fb-82c08549eb06",
      "metadata": {
        "id": "79261e41-cb48-4c27-b2fb-82c08549eb06"
      },
      "source": [
        "## Tarea 1: Crear un dataset sinético con Numpy\n",
        "\n",
        "Para esta tarea vamos a crear un dataset sintético usando las funciones de Numpy.\n",
        "Con este método podremos controlar completamente las características del dataset.\n",
        "\n",
        "Recuerda la ecuación de la regresión lineal múltiple y las dimensiones de los vectores:\n",
        "\n",
        "$Y = X \\times \\Theta^T$\n",
        "\n",
        "m = nº de ejemplos\n",
        "\n",
        "n = nº de características/coeficientes\n",
        "\n",
        "$Y_{m \\times 1}$ (vector columna)\n",
        "\n",
        "$X_{m \\times n}$ (matriz 2D)\n",
        "\n",
        "$\\Theta_{1 \\times n}$ (vector fila)\n",
        "\n",
        "*PISTA:* Usa la función de Numpy np.random.random() para un array aleatorio"
      ]
    },
    {
      "cell_type": "code",
      "execution_count": null,
      "id": "607cc1e5-5783-4419-9c8c-33b2726c6e8c",
      "metadata": {
        "id": "607cc1e5-5783-4419-9c8c-33b2726c6e8c"
      },
      "outputs": [],
      "source": [
        "# TODO: Crea los siguientes arrays que definen el dataset original\n",
        "\n",
        "# Escoge unos valores de m y n (tipo: int)\n",
        "m = 50 # Numero de ejemplos\n",
        "n = 18 # Numero de caracteristicas\n",
        "\n",
        "# X es un array 2D m x n de nºs aleatorios entre -100 y 100\n",
        "# Usa las funciones de Numpy para generar un array m x n de nºs aleatorios entre [0, 1)\n",
        "# Nº aleatorio en el rango [a, b): ndarray * (b - a) + a, donde a = -100 y b = 100\n",
        "X = np.random.random((m, n)) * (200) + (-100) # numeros aleatorios en el rango [-100, 100]\n",
        "\n",
        "# Inserta el término de bias b o X0 para paralelizar la ecuación\n",
        "# Inserta una columna de 1. (float) a la izquierda de X con la función de inserción de Numpy np.insert()\n",
        "X = np.insert(X, 0, 1, axis=1) # insertar una columna de 1 en la posicion 0 (bias)\n",
        "\n",
        "# Theta es un array 1D 1 x n que también podemos implementar como n x 1 (columna o fila)\n",
        "# Genéralo con n + 1 elementos aleatorios [0, 1) para añadir el término de bias\n",
        "Theta = np.random.random(n+1)\n",
        "\n",
        "# Computa Y multiplicando los vectores X y Theta con np.matmul()\n",
        "Y = np.matmul(X, Theta)\n",
        "\n",
        "# Comprueba los valores y dimensiones (forma o \"shape\") de los arrays con la propiedad ndarray.shape\n",
        "print('Theta a estimar:')\n",
        "print(Theta, \"\\n\")\n",
        "\n",
        "print(\"Primeras 10 filas y 5 columnas de X:\")\n",
        "print(X[:10, :5], \"\\n\") # Primeras 10 filas y 5 columnas de X\n",
        "print(\"e Y:\\n\", Y[:10], \"\\n\") # Primeras 5 filas de Y\n",
        "\n",
        "print('Dimensiones de X e Y:')\n",
        "print('X:', X.shape, 'e Y:', Y.shape)"
      ]
    },
    {
      "cell_type": "code",
      "execution_count": null,
      "id": "d18d5b50-a811-4fe5-a7b7-f2cd26bf6b88",
      "metadata": {
        "id": "d18d5b50-a811-4fe5-a7b7-f2cd26bf6b88"
      },
      "outputs": [],
      "source": [
        "# TODO: Representa X_1 vs Y en una gráfica 2D de puntos de Matplotlib\n",
        "# X_1 es la columna nº 2 de X, la primera cuyos valores no son todos 1.\n",
        "# A partir de ahora, intenta usar etiquetas para los ejes y un título de la gráfica\n",
        "X_1=X[:, 1] # Extraemos la segunda columna (1) de X\n",
        "\n",
        "plt.figure(figsize=(10, 5))\n",
        "plt.scatter(X_1, Y, color='blue', label='X1 vs Y')\n",
        "plt.xlabel('X1 (Segunda columna de X)', fontsize=12)\n",
        "plt.ylabel('Y', fontsize=12)\n",
        "plt.title('Relación entre X1 vs Y', fontsize=14)\n",
        "plt.legend()\n",
        "plt.grid(True)\n",
        "\n",
        "plt.show()"
      ]
    },
    {
      "cell_type": "markdown",
      "id": "96e4a1c3-8318-4c53-8466-5b177fb497e6",
      "metadata": {
        "id": "96e4a1c3-8318-4c53-8466-5b177fb497e6"
      },
      "source": [
        "Una vez implementados correctamente, *¿por qué no varías los términos m y n y compruebas que puedes crear arrays de diversas dimensiones?*"
      ]
    },
    {
      "cell_type": "markdown",
      "id": "c79eb1ec-b79a-4379-b566-ead3b420a124",
      "metadata": {
        "tags": [],
        "id": "c79eb1ec-b79a-4379-b566-ead3b420a124"
      },
      "source": [
        "## Tarea 2: Crear un dataset sintético con un término de error aleatorio\n",
        "\n",
        "Ahora vamos a repetir los pasos del punto anterior, pero añadiendo un término de error aleatorio a Y, para hacer un dataset con datos no tan precisos, más parecidos a una situación real, pudiendo controlar dicho error.\n",
        "\n",
        "*PISTA:* Usa la función de Numpy np.uniform() para un valor entre el rango de +/- e"
      ]
    },
    {
      "cell_type": "code",
      "execution_count": null,
      "id": "c6854cfd-7062-4552-ac0c-36c2a0adbad0",
      "metadata": {
        "id": "c6854cfd-7062-4552-ac0c-36c2a0adbad0"
      },
      "outputs": [],
      "source": [
        "# TODO: Crea los siguientes arrays que definen el dataset original con un término de error aleatorio\n",
        "\n",
        "# Escoge unos valores de m y n (tipo: int)\n",
        "m = 100 # Numero de ejemplos\n",
        "n = 6 # Numero de caracteristicas\n",
        "\n",
        "# X es un array 2D m x n de nºs aleatorios entre -100 y 100\n",
        "# Usa las funciones de Numpy para generar un array m x n de nºs aleatorios entre [0, 1)\n",
        "# Nº aleatorio en el rango [a, b): ndarray * (b - a) + a, donde a = -100 y b = 100\n",
        "X = np.random.random((m, n)) * (200) + (-100) # numeros aleatorios en el rango [-100, 100]\n",
        "\n",
        "# Inserta el término de bias b o X0 para paralelizar la ecuación\n",
        "# Inserta una columna de 1. (float) a la izquierda de X con la función de inserción de Numpy np.insert()\n",
        "X = np.insert(X, 0, 1, axis=1) # insertar una columna de 1 en la posicion 0 (bias)\n",
        "\n",
        "# Theta es un array 1D 1 x n que también podemos implementar como n x 1 (fila)\n",
        "# Genéralo con n + 1 elementos aleatorios [0, 1) para añadir el término de bias\n",
        "Theta = np.random.random(n+1)\n",
        "\n",
        "# Computa Y multiplicando los vectores X y Theta con np.matmul()\n",
        "Y = np.matmul(X, Theta)\n",
        "\n",
        "# A partir de aquí, añadimos el término de error e en porcentaje (0.1 = 10%, 0.25 = 25%, etc.)\n",
        "e = 0.1 # Error del 10%\n",
        "\n",
        "# En la siguiente línea, sustituye \"termino_error\" por un término que represente un número aleatorio en el rango +/- e (p.ej. +/- 10%)\n",
        "# De esta forma, el término de error será un porcentaje de +/- el término de error sobre el valor de Y original\n",
        "# Recuerda que debemos sumar un error a cada Y entre el valor positivo y negativo de e, no sumar e directamente\n",
        "termino_error=np.random.uniform(-e, e, size=Y.shape) # Generamos un termino aleatorio entre -0.1 y +0.1 --> -e y +e\n",
        "Y_final = Y + Y * termino_error # Estamos añadiendo el error a los valores de Y\n",
        "\n",
        "# Comprueba los valores y dimensiones (forma o \"shape\") de los arrays con la propiedad ndarray.shape\n",
        "print('Theta a estimar:')\n",
        "print(Theta,\"\\n\")\n",
        "\n",
        "print('Primeras 10 filas y 5 columnas de X:')\n",
        "print(X[:10, :5],\"\\n\")\n",
        "print(\"e Y:\\n\",Y_final[:10],\"\\n\")\n",
        "\n",
        "print('Dimensiones de X e Y:')\n",
        "print('X:', X.shape,'e Y :', Y_final.shape)\n"
      ]
    },
    {
      "cell_type": "markdown",
      "id": "e272a7f3-97d9-48d4-bc07-984b33147cf1",
      "metadata": {
        "id": "e272a7f3-97d9-48d4-bc07-984b33147cf1"
      },
      "source": [
        "Varía el término del error para comprobar su efecto sobre *Y_final*.\n",
        "\n",
        "*¿Te atreves a representar gráficamente Y vs X e Y_final vs X para apreciar el término del error?*"
      ]
    },
    {
      "cell_type": "code",
      "execution_count": null,
      "id": "fd08b1c9-5e07-4ca7-8d51-78cee0b90956",
      "metadata": {
        "id": "fd08b1c9-5e07-4ca7-8d51-78cee0b90956"
      },
      "outputs": [],
      "source": [
        "# TODO: Representa X vs Y y X vs Y_final en una gráfica de puntos de Matplotlib\n",
        "\n",
        "plt.figure(figsize=(10, 5))\n",
        "\n",
        "# Vamos a representar X vs Y, antes de añadir el error\n",
        "plt.scatter(X[:, 1], Y, color='blue', label='Y original', alpha=0.7)\n",
        "# Vamos a representar X vs Y_final, después de añadir el error\n",
        "plt.scatter(X[:, 1], Y_final, color='red', label='Y con error', alpha=0.7)\n",
        "\n",
        "# Añadimos los titulos y las etiquetas\n",
        "plt.title('Relación entre X vs Y y X vs Y_final', fontsize=14)\n",
        "plt.xlabel('X', fontsize=12)\n",
        "plt.ylabel('Y', fontsize=12)\n",
        "# Añadimos leyenda para distinguir entre las series\n",
        "plt.legend()\n",
        "plt.grid(True)\n",
        "\n",
        "plt.show()"
      ]
    },
    {
      "cell_type": "markdown",
      "id": "39502444-3083-42fb-85b4-edf3fbf6a33f",
      "metadata": {
        "tags": [],
        "id": "39502444-3083-42fb-85b4-edf3fbf6a33f"
      },
      "source": [
        "## Tarea 3: Crear un dataset sintético con parámetros no considerados\n",
        "\n",
        "En ocasiones, con datasets de la vida real, sucede que nuestra variable Y viene influenciada por múltiples características, de las cuales puede que no estemos considerando todas. Imagina, p. ej., una tasación de viviendas, pero que haya alguna característica de las mismas que los clientes tengan en consideración pero que nosotros no la tengamos disponible en nuestro set de datos de entrenamiento.\n",
        "\n",
        "P. ej., la cercanía a la parada de metro, bus o cercanías más próxima, el tiempo hasta la salida a la autovía más cercana, lo moderno del barrio o la diferencia en impuestos municipales frente a otros municipios cercanos.\n",
        "\n",
        "En dichos casos, queremos comparar nuestra implementación o nuestros modelos con modelos que tengan en cuenta más o menos características de las que realmente afectan a la variable Y.\n",
        "\n",
        "Por tanto, un dataset sintético muy útil en estas ocasiones sería aquel que viene dado por múltiples características (múltiples columnas de X), pero que sus columnas se ven reducidas a un número menor finalmente a la hora de entrenar nuestro modelo."
      ]
    },
    {
      "cell_type": "code",
      "execution_count": null,
      "id": "8d73cc78-4bcd-4151-92d0-6c98a82c5e89",
      "metadata": {
        "id": "8d73cc78-4bcd-4151-92d0-6c98a82c5e89"
      },
      "outputs": [],
      "source": [
        "# TODO: Crea los siguientes arrays que definen el dataset original con un término de error aleatorio\n",
        "\n",
        "# Escoge unos valores de m y n (tipo: int)\n",
        "m = 150\n",
        "n = 11\n",
        "\n",
        "# X es un array 2D m x n de nºs aleatorios entre -100 y 100\n",
        "# Usa las funciones de Numpy para generar un array m x n de nºs aleatorios entre [0, 1)\n",
        "# Nº aleatorio en el rango [a, b): ndarray * (b - a) + a, donde a = -100 y b = 100\n",
        "X = np.random.random((m, n)) * (200) + (-100)\n",
        "\n",
        "# Inserta el término de bias b o X0 para paralelizar la ecuación\n",
        "# Inserta una columna de 1. (float) a la izquierda de X con la función de inserción de Numpy np.insert()\n",
        "X = np.insert(X, 0, 1, axis=1)\n",
        "\n",
        "# Theta es un array 1D 1 x n que también podemos implementar como n x 1 (fila)\n",
        "# Genéralo con n + 1 elementos aleatorios [0, 1) para añadir el término de bias\n",
        "Theta = np.random.random(n+1)\n",
        "\n",
        "# Computa Y multiplicando los vectores X y Theta con np.matmul()\n",
        "Y = np.matmul(X, Theta)\n",
        "\n",
        "# A partir de aquí, añadimos el término de error e en porcentaje (0.1 = 10%, 0.25 = 25%, etc.)\n",
        "e = 0.1\n",
        "\n",
        "# En la siguiente línea, sustituye \"termino_error\" por un término que represente un número aleatorio en el rango +/- e (i.e. +/- 10%)\n",
        "# De esta forma, el término de error será un porcentaje de +/- el término de error sobre el valor de Y original\n",
        "error_aleatorio=np.random.uniform(-e, e, size=Y.shape)\n",
        "Y = Y + Y * error_aleatorio # He cambiado el nombre para evitar la sobreescritura de la variable \"termino_error\" que se usa mas arriba\n",
        "\n",
        "# Finalmente, restringe el nº de columnas de X y valores de Theta a considerar a sólo los n_final primeros\n",
        "# Puedes usar los slices de Numpy/Python para ello\n",
        "n_final = 3 # Usar cualquier numero\n",
        "\n",
        "Y_final = Y\n",
        "X_final = X[:, :n_final + 1] # Esto son las primeras n_final caracteristicas + bias\n",
        "Theta_final = Theta[:n_final + 1] # Y esto los primeros n_final + 1 terminos de Theta\n",
        "\n",
        "# Comprueba los valores y dimensiones (forma o \"shape\") de los arrays con la propiedad ndarray.shape\n",
        "print('Theta a estimar:')\n",
        "print(Theta_final,\"\\n\")\n",
        "\n",
        "print('Primeras 10 filas y 5 columnas de X:')\n",
        "print(X_final[:10, :5], \"\\n\") # Primeras 10 final y 5 columnas de X_final\n",
        "print(\"e Y:\\n\", Y[:10], \"\\n\") # Primeras 10 filas de Y\n",
        "\n",
        "print('Dimensiones de X e Y:')\n",
        "print('X:', X_final.shape, 'e Y:', Y.shape)"
      ]
    },
    {
      "cell_type": "markdown",
      "id": "32cdbe0b-e49e-4706-902b-454b4433a1f9",
      "metadata": {
        "id": "32cdbe0b-e49e-4706-902b-454b4433a1f9"
      },
      "source": [
        "## Tarea 4: Crear un dataset sintético con Scikit-learn\n",
        "\n",
        "Scikit-learn viene con varios módulos para disponer de datasets para desarrollo o evaluación. Habitualmente usamos datasets generados sintéticamente para desarrollo, y utilizamos alguno de los datasets más comunes para evaluar y comparar diferentes algoritmos e implementaciones, como veremos durante el curso.\n",
        "\n",
        "Las herramientas de generación de datasets puedes encontrarlas en la documentación: https://scikit-learn.org/stable/datasets/sample_generators.html\n",
        "\n",
        "Recuerda que, habitualmente, cada página de la documentación incluye varios notebooks con ejemplos de su uso.\n",
        "\n",
        "Revisa la documentación en detalle, puesto que estas funciones las podrás utilizar durante el curso para cualquier dataset que necesites descargarte o generar sintéticamente."
      ]
    },
    {
      "cell_type": "code",
      "execution_count": null,
      "id": "65f752a6-c2ff-4847-a61a-e43229eb1ca1",
      "metadata": {
        "id": "65f752a6-c2ff-4847-a61a-e43229eb1ca1"
      },
      "outputs": [],
      "source": [
        "# TODO: Usa las funciones de Scikit-learn para generar un dataset sintético pensado para resolver un problema de regresión lineal multivariable\n",
        "# Escoge la función correcta para ello\n",
        "\n",
        "# Importa el módulo correspondiente\n",
        "from sklearn.datasets import make_regression\n",
        "\n",
        "# Genera el dataset con la función correspondiente y obten la Theta o coeficientes utilizados para generar el dataset\n",
        "# Habitualmente se realiza con el parámetro coef=True\n",
        "# Recuerda añadir un término de error/ruido\n",
        "X, Y, Theta = make_regression(n_samples=100,  # numero de muestras que tendra el dataset\n",
        "                              n_features=3,  # numero de caracteristicas independientes (x)\n",
        "                              noise=15,  # añade ruido/error al dataset para simular datos mas realistas\n",
        "                              coef=True, # devuelve los coeficientes (Theta) usados para generar el dataset (la vaiable y)\n",
        "                              random_state=42) # asi obtenemos el mismo resultado al ejecutar varias veces el mismo codigo\n",
        "\n",
        "# Comprueba los valores y dimensiones (forma o \"shape\") de los arrays con la propiedad ndarray.shape\n",
        "print('Theta a estimar (coeficientes reales):')\n",
        "print(Theta, \"\\n\")\n",
        "\n",
        "print('Primeras 10 filas y 5 columnas de X:')\n",
        "print(X[:10],\"\\n\",\n",
        "      \"e Y:\",Y[:10], \"\\n\")\n",
        "\n",
        "print('Dimensiones de X e Y:')\n",
        "print('X:', X.shape,'e Y :', Y.shape)\n"
      ]
    },
    {
      "cell_type": "markdown",
      "id": "1e900efc-1f1c-42df-87f4-352f6fd2c3e7",
      "metadata": {
        "id": "1e900efc-1f1c-42df-87f4-352f6fd2c3e7"
      },
      "source": [
        "*¿Qué m y n tendrá dicho dataset?*"
      ]
    },
    {
      "cell_type": "code",
      "execution_count": null,
      "id": "b9ffd30b-af67-43eb-93fa-910b6caeccee",
      "metadata": {
        "id": "b9ffd30b-af67-43eb-93fa-910b6caeccee"
      },
      "outputs": [],
      "source": [
        "# TODO: Averigua la m y n de dicho dataset con la forma o tamaño de los arrays\n",
        "m = X.shape[0]\n",
        "n = X.shape[1]\n",
        "print(\"numero de filas o muestras, m:\", m, \"\\nnumero de colimnas o caracteristicas, n:\", n)"
      ]
    },
    {
      "cell_type": "markdown",
      "id": "9c2bd9ff-6726-4de5-b308-37c94f5e39a8",
      "metadata": {
        "id": "9c2bd9ff-6726-4de5-b308-37c94f5e39a8"
      },
      "source": [
        "Repite los pasos de la celda anterior para descargar un dataset pequeño de muestra o \"toy\" pensado para resolver un problema de regresión lineal multivariable.\n",
        "\n",
        "Datasets toy: https://scikit-learn.org/stable/datasets/toy_dataset.html"
      ]
    },
    {
      "cell_type": "code",
      "execution_count": null,
      "id": "8024392f-9416-4f7c-839a-2017a4de5ebf",
      "metadata": {
        "id": "8024392f-9416-4f7c-839a-2017a4de5ebf"
      },
      "outputs": [],
      "source": [
        "# TODO: Repite los pasos de la celda anterior para descargar un dataset pequeño de muestra o \"toy\" pensado para resolver un problema de regresión lineal multivariable\n",
        "# Escoge uno de los datasets correctos para ello\n",
        "from sklearn.datasets import load_diabetes\n",
        "from sklearn.model_selection import train_test_split\n",
        "from sklearn.linear_model import LinearRegression\n",
        "\n",
        "# Cargamos el dataset de diabetes de sklearn\n",
        "diabetes_data = load_diabetes()\n",
        "\n",
        "# ahora vamos a definir las variables X e Y, igual que en los casos anteriores\n",
        "X = diabetes_data.data # Asignamos las carateristicas o atributos array de (442, 10)\n",
        "# lo que singifica que tenemos 442 muestras o pacientes y 10 caracteristicas por muestra\n",
        "Y = diabetes_data.target # esta variable representa el valor objetivo o variable independiente.\n",
        "# contiene una variable numerica de la progresion de la diabetes, que es lo que queremos predecir a traves de X\n",
        "\n",
        "# comprobamos las dimensiones de X e Y\n",
        "print('Primeras 5 filas de X:')\n",
        "print(X[:5],\"\\n\",\n",
        "      \"e Y:\",Y[:5], \"\\n\")\n",
        "\n",
        "print('Dimensiones de X e Y:')\n",
        "print('X:', X.shape,'e Y :', Y.shape)"
      ]
    }
  ],
  "metadata": {
    "environment": {
      "kernel": "python3",
      "name": "common-cpu.m94",
      "type": "gcloud",
      "uri": "gcr.io/deeplearning-platform-release/base-cpu:m94"
    },
    "kernelspec": {
      "display_name": "Python 3",
      "language": "python",
      "name": "python3"
    },
    "language_info": {
      "codemirror_mode": {
        "name": "ipython",
        "version": 3
      },
      "file_extension": ".py",
      "mimetype": "text/x-python",
      "name": "python",
      "nbconvert_exporter": "python",
      "pygments_lexer": "ipython3",
      "version": "3.7.12"
    },
    "colab": {
      "provenance": [],
      "include_colab_link": true
    }
  },
  "nbformat": 4,
  "nbformat_minor": 5
}