{
  "cells": [
    {
      "cell_type": "markdown",
      "id": "afa5ce9e-a97f-4c44-99b9-a7b8adc6ef2d",
      "metadata": {
        "id": "afa5ce9e-a97f-4c44-99b9-a7b8adc6ef2d"
      },
      "source": [
        "# Regresión lineal multivariable: Función de coste\n",
        "M2U2 - Ejercicio 1\n",
        "\n",
        "## ¿Qué vamos a hacer?\n",
        "- Implementar la función de coste para regresión lineal multivariable\n",
        "\n",
        "Recuerda seguir las instrucciones para las entregas de prácticas indicadas en [Instrucciones entregas](https://github.com/Tokio-School/Machine-Learning/blob/main/Instrucciones%20entregas.md)."
      ]
    },
    {
      "cell_type": "code",
      "execution_count": 1,
      "id": "5ea635e5-42ec-4c2c-87cc-005f88c517cc",
      "metadata": {
        "id": "5ea635e5-42ec-4c2c-87cc-005f88c517cc"
      },
      "outputs": [],
      "source": [
        "import numpy as np"
      ]
    },
    {
      "cell_type": "markdown",
      "id": "4842b324-770d-4c7d-9c56-d5288d9532ee",
      "metadata": {
        "id": "4842b324-770d-4c7d-9c56-d5288d9532ee"
      },
      "source": [
        "## Tarea 1: Implementar la función de coste para regresión lineal multivariable no vectorizada\n",
        "\n",
        "En esta tarea, debes implementar la función de coste para regresión lineal multivariable en Python. La función de coste debe seguir la función incluida en las diapositvas y en el manual del curso.\n",
        "\n",
        "Para ello, primero rellena el código de la siguiente celda para implementar la función de coste no vectorizada.\n",
        "\n",
        "Las diferencias entre una implementación vectorizada y no vectorizada son las siguientes:\n",
        "- La vectorizada utiliza operaciones de álgebra lineal, de operaciones entre vectores/matrices.\n",
        "- La no vectorizada se implementa con bucles de control for en Python, iterando entre las secuencias/listas de elementos uno a uno.\n",
        "- La vectorizada utiliza Numpy, sus arrays ndarray y operaciones como np.matmul().\n",
        "- La no vectorizada es menos eficiente, ya que no utiliza los métodos numéricos de Numpy sobre operaciones de C++.\n",
        "- Sin embargo, la no vectorizada es bastante más sencilla de comprender en un primer momento, al ser Python puro, sin depender de otras funciones y dimensiones de vectores.\n",
        "\n",
        "Recuerda la ecuación:\n",
        "\n",
        "$$Y = h_\\Theta(X) = X \\times \\Theta^T$$\n",
        "\n",
        "$$J_\\theta = \\frac{1}{2m} \\sum_{i = 0}^{m} (h_\\theta(x^i) - y^i)^2$$\n",
        "\n",
        "Para implementarla, sigue estos pasos:\n",
        "1. Tómate un tiempo para revisar la ecuación y asegúrate que comprendes todas las operaciones matemáticas reflejadas en ella\n",
        "1. Vuelve a ejercicios anteriores o revisa las diapositivas y anota en una hoja de papel (o celda auxiliar) las dimensiones de cada vector o matriz de la ecuación\n",
        "1. Anota en dicho papel o celda auxiliar las operaciones de álgebra lineal paso a paso\n",
        "    1. Comienza por sustituir $h_{\\theta}$ en la 2ª ecuación por su valor de la 1ª\n",
        "    1. La primera operación es hallar la $h_{\\theta}$ o Y predicha para cada fila de X (multiplicándola por $\\Theta$)\n",
        "    1. La 2ª, restarle el valor de Y para dicho ejemplo/fila de X, hayando su residuo\n",
        "    1. Luego elevar al cuadrado el resultado\n",
        "    1. A continuación, sumar todos los cuadrados de los residuos para todos los ejemplos/filas de X\n",
        "    1. Por último, dividirlos por 2 * m\n",
        "1. Anota al lado de cada paso las dimensiones que debería tener su resultado. Recuerda que el resultado final de la función de coste es un escalar o número\n",
        "1. Por último, piensa cómo iterar con bucles for por cada valor de X, $\\Theta$ e Y para implementar la función de coste:\n",
        "    1. Implementa la fórmula usando únicamente bucles for y la función sum() de la librería estándar de Python, sin usar métodos ni operadores de Numpy\n",
        "    1. Itera por todas las filas o ejemplos de X (m filas)\n",
        "    1. Dentro de dicho bucle, itera por las características o valores de X y $\\Theta$ para calcular la Y predicha para dicho ejemplo\n",
        "    1. Una vez hallados todos los residuos, halla el coste total\n",
        "\n",
        "*Notas:*\n",
        "- Los pasos mencionados son sólo una guía, una ayuda. En cada ejercicio, implementa tu código a tu manera, con el planteamiento que prefieras, utilizando el esquema de código de la celda o no\n",
        "- No te preocupes demasiado por ahora por saber si funciona correctamente o no, puesto que en la siguiente tarea la comprobaremos. Si hubiera algún error, puedes volver a esta celda para corregir tu código."
      ]
    },
    {
      "cell_type": "code",
      "execution_count": 9,
      "id": "ce9d0283-b875-438b-87ee-1ad05f888057",
      "metadata": {
        "id": "ce9d0283-b875-438b-87ee-1ad05f888057"
      },
      "outputs": [],
      "source": [
        "# TODO: Implementa la función de coste no vectorizada siguiendo la siguiente plantilla\n",
        "\n",
        "'''  Computa la función de coste para el dataset y coeficientes considerados.\n",
        "    Argumentos posicionales:\n",
        "    x -- array 2D de Numpy con los valores de las variables independientes de los ejemplos, de tamaño m x n\n",
        "    y -- array 1D de Numpy con la variable dependiente/objetivo, de tamaño m x 1\n",
        "    theta -- array 1D de Numpy con los pesos de los coeficientes del modelo, de tamaño 1 x n (vector fila)\n",
        "\n",
        "    Devuelve:\n",
        "    j -- float con el coste para dicho array theta'''\n",
        "\n",
        "\n",
        "def cost_function_non_vectorized(x, y, theta):\n",
        "  m = len(y) # m es el numero de ejemplos en el conjunto de datos\n",
        "  j = 0 # inicializamos el coste\n",
        "\n",
        "# Vamos a iterar por cada ejemplo (fila de X)\n",
        "  for i in range(m):\n",
        "    prediccion = 0 # inicializamos la predicción para el ejemplo i\n",
        "    for j in range(len(theta)): # iteramos por cada característica (columna de X)\n",
        "      prediccion += x[i][j] * theta[j] # multiplicamos x[i][j] por theta[j] y sumamos a la predicción\n",
        "\n",
        "    residuo = prediccion - y[i] # residuo: diferencia entre predicción y valor real\n",
        "    j += residuo ** 2 # sumamos el cuadrado del residuo\n",
        "\n",
        "# Dividimos por 2 * m para obtener el coste final\n",
        "  j= j / (2 * m)\n",
        "\n",
        "  return j"
      ]
    },
    {
      "cell_type": "markdown",
      "id": "7343d92e-593c-4d08-b53c-fd87a8ea63be",
      "metadata": {
        "id": "7343d92e-593c-4d08-b53c-fd87a8ea63be"
      },
      "source": [
        "## Tarea 2: Comprueba tu implementación\n",
        "\n",
        "Para comprobar tu implementación, rescata tu código del notebook anterior acerca de datasets sintéticos para regresión lineal multivariable y utilízalos para generar un dataset en la siguiente celda:"
      ]
    },
    {
      "cell_type": "code",
      "execution_count": 14,
      "id": "121c20ef-6db9-4483-a3bc-8d7df70b5c39",
      "metadata": {
        "id": "121c20ef-6db9-4483-a3bc-8d7df70b5c39",
        "outputId": "ac4faa36-7bb9-4443-b008-27cea6582612",
        "colab": {
          "base_uri": "https://localhost:8080/"
        }
      },
      "outputs": [
        {
          "output_type": "stream",
          "name": "stdout",
          "text": [
            "Theta real a estimar:\n",
            "[ 1.5 -2.   0.7]\n",
            "\n",
            "Primeras 10 filas y 5 columnas de X e Y:\n",
            "[[4.15785142 7.67331497 2.95803845]\n",
            " [4.30865796 6.13755425 8.49075701]\n",
            " [3.17496821 5.66055958 7.40366091]\n",
            " [3.25547457 0.43576475 5.71439135]\n",
            " [6.08071977 9.84412207 5.26230349]\n",
            " [1.4091764  7.5938091  2.65514582]\n",
            " [7.93268673 9.4889933  9.46156988]\n",
            " [7.14289285 4.39832476 9.85020186]\n",
            " [4.8290541  7.86977545 9.21184286]\n",
            " [6.87753937 5.86151561 2.87050639]]\n",
            "[ -5.76744285  -1.11560884  -2.70800398   9.41511661  -6.73616457\n",
            " -11.53154775  -1.95549607   7.09053276  -1.04815474  -0.03057849]\n",
            "\n",
            "Dimensiones de X e Y:\n",
            "shape X: (100, 3)\n",
            "shape Y: (100,)\n"
          ]
        }
      ],
      "source": [
        "# TODO: Genera un dataset sintético, con término de error, de la forma que escojas, con Numpy o Scikit-learn\n",
        "# Definimos primero las dimensiones del dataset\n",
        "\n",
        "m = 100\n",
        "n = 3\n",
        "e = 1.0 # aumento el ruido porque en el siguiente apartado obtenia valores muy parecidos.\n",
        "\n",
        "# Luego, generamos X con valores aleatorios de tamaño m x n\n",
        "X = 10 * np.random.rand(m, n) # he multiplicado por 10 para modificar los resultados muy pequeños y parecidos que obtenia en las theta1, 2, 3 y 4\n",
        "\n",
        "# Definimos los valores reales de Tetha\n",
        "Theta_verd = np.array([1.5, -2.0, 0.7]) #coeficientes reales\n",
        "\n",
        "# Generaremos Y a partir de los valores reales de Theta y añadiremos un termino de error\n",
        "Y = X @ Theta_verd + e * np.random.randn(m) # @ es la multiplicacion matricial\n",
        "\n",
        "# Comprueba los valores y dimensiones (forma o \"shape\") de los vectores\n",
        "print('Theta real a estimar:')\n",
        "print(Theta_verd)\n",
        "\n",
        "print('\\nPrimeras 10 filas y 5 columnas de X e Y:')\n",
        "print(X[:10, :5]) # asi mostramos las 10 primeras filas y 5 columnas de X\n",
        "print(Y[:10]) # Asi mostramos las 10 primeras filas de Y\n",
        "\n",
        "print('\\nDimensiones de X e Y:')\n",
        "print('shape X:', X.shape)\n",
        "print('shape Y:', Y.shape)"
      ]
    },
    {
      "cell_type": "markdown",
      "id": "0657b0ba-9003-4b37-b090-501fdda7e751",
      "metadata": {
        "id": "0657b0ba-9003-4b37-b090-501fdda7e751"
      },
      "source": [
        "Ahora vamos a comprobar tu implementación de la función de coste en las siguientes celdas.\n",
        "\n",
        "Recuerda que la función de coste representa el \"error\" de tu modelo, el sumatorio de los cuadrados de los resíduos del mismo.\n",
        "\n",
        "Por ello, la función de coste tiene las siguientes características:\n",
        "- No tiene unidades, por lo que no podemos saber si su valor es \"demasiado alto o bajo\", simplemente comparar los costes de dos modelos (conjuntos de $\\Theta$) diferentes\n",
        "- Tiene un valor de 0 para la $\\Theta$ teóricamente óptima\n",
        "- Sus valores siempre son positivos\n",
        "- Tiene un valor más alto cuanto más se aleja la $\\Theta$ utilizada de la $\\Theta$ óptima\n",
        "- Su valor crece con el cuadrado de los residuos del modelo\n",
        "\n",
        "Por lo tanto, utiliza la siguiente celda para comprobar la implementación de tu función con diferentes $\\Theta$, corrigiendo tu función si es necesario. Comprueba que:\n",
        "1. Si la $\\Theta$ es igual que la $\\Theta_{verd}$ (obtenida al definir el dataset), el coste es 0\n",
        "1. Si la $\\Theta$ es distinta que la $\\Theta_{verd}$, el coste es distinto a 0 y positivo\n",
        "1. Cuanto más alejada está la $\\Theta$ de la $\\Theta_{verd}$, mayor es el coste (compruébalo con 3 $\\Theta$ diferentes a $\\Theta_{verd}$, en orden de menor a mayor)\n",
        "\n",
        "*Nota:* Para ello, utiliza la misma celda, modificando sus variables varias veces."
      ]
    },
    {
      "cell_type": "code",
      "execution_count": 15,
      "id": "5b0c3496-d5d4-4370-9d16-8f6dce079397",
      "metadata": {
        "id": "5b0c3496-d5d4-4370-9d16-8f6dce079397",
        "outputId": "00fd4ebd-ea06-453f-c368-6fdb9727b028",
        "colab": {
          "base_uri": "https://localhost:8080/"
        }
      },
      "outputs": [
        {
          "output_type": "stream",
          "name": "stdout",
          "text": [
            "Coste del modelo con Theta_verd:\n",
            "0.011970717725143076\n",
            "Theta comprobado y Theta real:\n",
            "[ 1.5 -2.   0.7]\n",
            "[ 1.5 -2.   0.7]\n",
            "\n",
            "Coste del modelo con theta2 (cercana a Theta_verd):\n",
            "0.021682240310496242\n",
            "Theta comprobado:\n",
            "[ 1.4 -2.1  0.6]\n",
            "\n",
            "Coste del modelo con theta3 (alejada de Theta_verd):\n",
            "0.11080818491005744\n",
            "Theta comprobado:\n",
            "[0. 0. 0.]\n",
            "\n",
            "Coste del modelo con theta4 (muy alejada de Theta_verd):\n",
            "0.06606775208825709\n",
            "Theta comprobado:\n",
            "[ 3.  -4.   1.5]\n"
          ]
        }
      ],
      "source": [
        "#TODO: Comprueba la implementación de tu función de coste\n",
        "# Theta_verd es el valor real que usamos para generar los datos\n",
        "theta1 = Theta_verd    # Modifica y comprueba varios valores de theta\n",
        "# theta_verd es la theta optima, que deberia dar un coste muy bajo o 0\n",
        "theta2 = np.array([1.4, -2.1, 0.6]) # esta theta es cercana a theta_verd = coste bajo\n",
        "theta3 = np.array([0.0, 0.0, 0.0]) # esta theta alejada de theta_verd dara un coste alto\n",
        "theta4 = np.array([3.0, -4.0, 1.5]) # esta theta es la más alejada a theta_verd y nos dará el coste más alto entre todos\n",
        "\n",
        "# Comprobamos el coste con theta1 ( recordemos que este deberia ser cercano a 0)\n",
        "j1 = cost_function_non_vectorized(X, Y, theta1)\n",
        "print('Coste del modelo con Theta_verd:')\n",
        "print(j1)\n",
        "print('Theta comprobado y Theta real:')\n",
        "print(theta1)\n",
        "print(Theta_verd)\n",
        "\n",
        "# Comprobamos el coste con theta2 (este debería ser mayor que j1 pero no demasiado alto, ya que esta muy cerca)\n",
        "j2 = cost_function_non_vectorized(X, Y, theta2)\n",
        "print('\\nCoste del modelo con theta2 (cercana a Theta_verd):')\n",
        "print(j2)\n",
        "print('Theta comprobado:')\n",
        "print(theta2)\n",
        "\n",
        "# Comprobamos el coste con theta3 (debería ser mucho mayor)\n",
        "j3 = cost_function_non_vectorized(X, Y, theta3)\n",
        "print('\\nCoste del modelo con theta3 (alejada de Theta_verd):')\n",
        "print(j3)\n",
        "print('Theta comprobado:')\n",
        "print(theta3)\n",
        "\n",
        "# Comprobamos el coste con theta4 (debería ser el mayor valor de todos)\n",
        "j4 = cost_function_non_vectorized(X, Y, theta4)\n",
        "print('\\nCoste del modelo con theta4 (muy alejada de Theta_verd):')\n",
        "print(j4)\n",
        "print('Theta comprobado:')\n",
        "print(theta4)"
      ]
    },
    {
      "cell_type": "markdown",
      "id": "e49eab48-7d31-427f-98f3-116b409e819b",
      "metadata": {
        "id": "e49eab48-7d31-427f-98f3-116b409e819b"
      },
      "source": [
        "## Tarea 3: Vectorizar la función de coste\n",
        "\n",
        "Ahora vamos a implementar una nueva función de coste, pero en esta ocasión vectorizada.\n",
        "\n",
        "Una función vectorizada es aquella que se realiza en base a operaciones de álgebra lineal, en lugar de p. ej. los bucles for utilizados en la primera función, y por tanto su computación es mucho más rápida y eficiente, más aún si se realiza en GPUs o procesadores especializados.\n",
        "\n",
        "Implementa de nuevo la función de coste, pero esta vez utilizando exclusivamente las operaciones de álgebra lineal para operar con vectores/arrays de Numpy.\n",
        "\n",
        "Consejos:\n",
        "- Comprueba las dimensiones del resultado de cada operación o paso intermedio una a una si lo necesitas\n",
        "- Intenta implementar la ecuación con el mínimo número de operaciones posibles, sin bucles ni iteraciones\n",
        "- Utiliza funciones como [numpy.matmul()](https://numpy.org/doc/stable/reference/generated/numpy.matmul.html) o numpy.sum().\n",
        "- Utiliza ndarray.reshape() para *theta* si te da algún problema en la multiplicación matricial, para conseguir un vector ndarray 2D (n+1, 1) en lugar de un 1D (n+1,)\n",
        "- Asegúrate de devolver un valor *j* float, no un ndarray 2D con 1 solo elemento. Extráelo con sus índices si es necesario."
      ]
    },
    {
      "cell_type": "code",
      "execution_count": 16,
      "id": "b1e17dd3-4baa-4c25-aec8-c544143b8e5f",
      "metadata": {
        "id": "b1e17dd3-4baa-4c25-aec8-c544143b8e5f"
      },
      "outputs": [],
      "source": [
        "# TODO: Implementa la función de coste vectorizada siguiendo la siguiente plantilla\n",
        "\n",
        "def cost_function(x, y, theta):\n",
        "    \"\"\" Computa la función de coste para el dataset y coeficientes considerados.\n",
        "\n",
        "    Argumentos posicionales:\n",
        "    x -- array 2D de Numpy con los valores de las variables independientes de los ejemplos, de tamaño m x n\n",
        "    y -- array 1D de Numpy con la variable dependiente/objetivo, de tamaño m x 1\n",
        "    theta -- array 1D de Numpy con los pesos de los coeficientes del modelo, de tamaño 1 x n (vector fila)\n",
        "\n",
        "    Devuelve:\n",
        "    j -- float con el coste para dicho array theta\n",
        "    \"\"\"\n",
        "    m = y.shape[0] # m es el numero de ejemplos\n",
        "\n",
        "    # Computa la prediccion de h_theta(x)\n",
        "    # theta.T @ x.T realiza la multiplicacion matricial\n",
        "    h= np.matmul(x, theta) # m x 1\n",
        "\n",
        "    # Computa la diferecia entre la prediccion y el valor real\n",
        "    error = h - Y\n",
        "\n",
        "\n",
        "    # Recuerda comprobar las dimensiones de la multiplicación matricial para hacerla correctamente\n",
        "    j = (1/(2*m)) * np.sum(np.square(error))\n",
        "\n",
        "    return j"
      ]
    },
    {
      "cell_type": "markdown",
      "id": "0cb236d2-fc70-4696-b31e-6d5aa54ec4f0",
      "metadata": {
        "id": "0cb236d2-fc70-4696-b31e-6d5aa54ec4f0"
      },
      "source": [
        "Por último, vuelve a la tarea 2 y repite los mismos pasos para comprobar ahora tu función vectorizada."
      ]
    },
    {
      "cell_type": "code",
      "source": [
        "# Definir valores de theta para comprobar la función de coste\n",
        "theta1 = Theta_verd  # Theta real\n",
        "theta2 = np.array([1.4, -2.1, 0.6])  # Theta cercana a la real\n",
        "theta3 = np.array([0, 0, 0])  # Theta muy alejada de la real\n",
        "theta4 = np.array([3.0, -4.0, 1.5])  # Theta más alejada de la real\n",
        "\n",
        "# Calcular los costes para cada conjunto de theta\n",
        "j1 = cost_function(X, Y, theta1)\n",
        "j2 = cost_function(X, Y, theta2)\n",
        "j3 = cost_function(X, Y, theta3)\n",
        "j4 = cost_function(X, Y, theta4)\n",
        "\n",
        "# Imprimir los resultados\n",
        "print('Coste del modelo con Theta_verd:')\n",
        "print(j1)\n",
        "print('Theta comprobado y Theta real:')\n",
        "print(theta1)\n",
        "print(Theta_verd)\n",
        "\n",
        "print('\\nCoste del modelo con theta2 (cercana a Theta_verd):')\n",
        "print(j2)\n",
        "print('Theta comprobado:')\n",
        "print(theta2)\n",
        "\n",
        "print('\\nCoste del modelo con theta3 (alejada de Theta_verd):')\n",
        "print(j3)\n",
        "print('Theta comprobado:')\n",
        "print(theta3)\n",
        "\n",
        "print('\\nCoste del modelo con theta4 (muy alejada de Theta_verd):')\n",
        "print(j4)\n",
        "print('Theta comprobado:')\n",
        "print(theta4)\n"
      ],
      "metadata": {
        "id": "sJHYzo07vwNI",
        "outputId": "a320d58a-d302-4086-b323-b16e3bcf224b",
        "colab": {
          "base_uri": "https://localhost:8080/"
        }
      },
      "id": "sJHYzo07vwNI",
      "execution_count": 19,
      "outputs": [
        {
          "output_type": "stream",
          "name": "stdout",
          "text": [
            "Coste del modelo con Theta_verd:\n",
            "0.4504781714922579\n",
            "Theta comprobado y Theta real:\n",
            "[ 1.5 -2.   0.7]\n",
            "[ 1.5 -2.   0.7]\n",
            "\n",
            "Coste del modelo con theta2 (cercana a Theta_verd):\n",
            "1.619212180252749\n",
            "Theta comprobado:\n",
            "[ 1.4 -2.1  0.6]\n",
            "\n",
            "Coste del modelo con theta3 (alejada de Theta_verd):\n",
            "27.082475989098725\n",
            "Theta comprobado:\n",
            "[0 0 0]\n",
            "\n",
            "Coste del modelo con theta4 (muy alejada de Theta_verd):\n",
            "32.490613852199665\n",
            "Theta comprobado:\n",
            "[ 3.  -4.   1.5]\n"
          ]
        }
      ]
    }
  ],
  "metadata": {
    "environment": {
      "kernel": "python3",
      "name": "common-cpu.m87",
      "type": "gcloud",
      "uri": "gcr.io/deeplearning-platform-release/base-cpu:m87"
    },
    "kernelspec": {
      "display_name": "Python 3",
      "language": "python",
      "name": "python3"
    },
    "language_info": {
      "codemirror_mode": {
        "name": "ipython",
        "version": 3
      },
      "file_extension": ".py",
      "mimetype": "text/x-python",
      "name": "python",
      "nbconvert_exporter": "python",
      "pygments_lexer": "ipython3",
      "version": "3.7.12"
    },
    "colab": {
      "provenance": []
    }
  },
  "nbformat": 4,
  "nbformat_minor": 5
}