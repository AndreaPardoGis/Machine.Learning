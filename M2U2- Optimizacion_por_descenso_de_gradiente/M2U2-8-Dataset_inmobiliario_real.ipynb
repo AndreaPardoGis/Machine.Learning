{
 "cells": [
  {
   "cell_type": "markdown",
   "id": "24b8dffe-b786-4809-8670-0c2c892da116",
   "metadata": {},
   "source": [
    "# Regresión lineal: Ejemplo sobre dataset inmobiliario real\n",
    "M2U2 - Ejercicio 8\n",
    "\n",
    "## ¿Qué vamos a hacer?\n",
    "- Entrenar un modelo de ML de regresión lineal multivariable sobre un dataset inmobiliario real\n",
    "\n",
    "Recuerda seguir las instrucciones para las entregas de prácticas indicadas en [Instrucciones entregas](https://github.com/Tokio-School/Machine-Learning/blob/main/Instrucciones%20entregas.md)."
   ]
  },
  {
   "cell_type": "markdown",
   "id": "3a9f7c31-44c6-42c4-a99d-406eeb07ed15",
   "metadata": {},
   "source": [
    "## Dataset de precios inmobiliarios de Boston\n",
    "\n",
    "Este dataset es un dataset pequeño, de sólo 506 ejemplos y 13 características, pero es un dataset real que podemos utilizar para comprobar nuestra implementación de entrenamiento de modelos y comenzar a resolver ejercicios con datos reales.\n",
    "\n",
    "Puedes encontrar el dataset y ejemplos de cómo descargarlo aquí: [Boston house prices dataset](https://scikit-learn.org/stable/datasets/toy_dataset.html#boston-house-prices-dataset)\n",
    "\n",
    "Comprueba el dataset. Tal vez tengas que hacer alguna pequeña modificación sobre los datos o tu implementación para resolverlo según el método que hemos venido utilizando."
   ]
  },
  {
   "cell_type": "code",
   "execution_count": null,
   "id": "38f4a952-d042-4a7d-a102-30f42cc7fa6c",
   "metadata": {},
   "outputs": [],
   "source": [
    "# TODO: Explora el dataset, descárgalo, explora sus ejemplos y visualiza sus características\n",
    "\n",
    "# Carga el dataset\n",
    "[...]\n",
    "\n",
    "# Explora algunos ejemplos (al menos 5)\n",
    "[...]\n",
    "\n",
    "# Representa la variable objetivo y al menos 3 características que consideres muy significativas con una gráfica boxplot\n",
    "[...]"
   ]
  },
  {
   "cell_type": "markdown",
   "id": "1af257db-d3f5-4cd2-b983-ed3a27c2a419",
   "metadata": {},
   "source": [
    "## Entrenar el modelo, comprobar su proceso de entrenamiento y evaluar su resultado final\n",
    "\n",
    "Para este ejercicio no vas a tener instrucciones concretas, una guía o una plantilla de celdas de código, sino que queremos darte la libertad y la posibildad de enfrentarte a tu primer problema real, desde 0.\n",
    "\n",
    "Los objetivos de este ejercicio son, de nuevo:\n",
    "1. Descargarte el dataset para entrenar el modelo\n",
    "1. Entrenar un modelo de regresión lineal multivariable sobre dicho dataset, que tratará de predecir las valoraciones inmobiliarias en Boston\n",
    "1. Comprobar el proceso de entrenamiento del modelo\n",
    "1. Evaluar el modelo comprobando su peso final y la gráfica de sus residuos\n",
    "\n",
    "Para ello, fíjate en los pasos que has seguido en ejercicios anteriores y copia aquí las celdas y código que necesites para poder resolverlo.\n",
    "\n",
    "¡Ánimo!"
   ]
  },
  {
   "cell_type": "markdown",
   "id": "50b573fa-e03f-45ca-9d2c-b2144eae77d3",
   "metadata": {},
   "source": [
    "*BONUS:* Échale un vistazo a la fuente del dataset, que encontrarás en Scikit-learn, *¿de dónde viene? ¿Qué artículos, trabajos y tutoriales lo referencian?*"
   ]
  }
 ],
 "metadata": {
  "environment": {
   "kernel": "python3",
   "name": "common-cpu.m87",
   "type": "gcloud",
   "uri": "gcr.io/deeplearning-platform-release/base-cpu:m87"
  },
  "kernelspec": {
   "display_name": "Python 3",
   "language": "python",
   "name": "python3"
  },
  "language_info": {
   "codemirror_mode": {
    "name": "ipython",
    "version": 3
   },
   "file_extension": ".py",
   "mimetype": "text/x-python",
   "name": "python",
   "nbconvert_exporter": "python",
   "pygments_lexer": "ipython3",
   "version": "3.7.12"
  }
 },
 "nbformat": 4,
 "nbformat_minor": 5
}
