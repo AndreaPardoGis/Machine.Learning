{
  "cells": [
    {
      "cell_type": "markdown",
      "metadata": {
        "id": "view-in-github",
        "colab_type": "text"
      },
      "source": [
        "<a href=\"https://colab.research.google.com/github/AndreaPardoGis/Machine.Learning/blob/main/customizing.ipynb\" target=\"_parent\"><img src=\"https://colab.research.google.com/assets/colab-badge.svg\" alt=\"Open In Colab\"/></a>"
      ]
    },
    {
      "cell_type": "markdown",
      "metadata": {
        "id": "abrbE-ky12Ny"
      },
      "source": [
        "\n",
        ".. redirect-from:: /users/customizing\n",
        ".. redirect-from:: /tutorials/introductory/customizing\n",
        "\n",
        "\n",
        "# Customizing Matplotlib with style sheets and rcParams\n",
        "\n",
        "Tips for customizing the properties and default styles of Matplotlib.\n",
        "\n",
        "There are three ways to customize Matplotlib:\n",
        "\n",
        "1. `Setting rcParams at runtime<customizing-with-dynamic-rc-settings>`.\n",
        "2. `Using style sheets<customizing-with-style-sheets>`.\n",
        "3. `Changing your matplotlibrc file<customizing-with-matplotlibrc-files>`.\n",
        "\n",
        "Setting rcParams at runtime takes precedence over style sheets, style\n",
        "sheets take precedence over :file:`matplotlibrc` files.\n",
        "\n",
        "\n",
        "## Runtime rc settings\n",
        "\n",
        "You can dynamically change the default rc (runtime configuration)\n",
        "settings in a python script or interactively from the python shell. All\n",
        "rc settings are stored in a dictionary-like variable called\n",
        ":data:`matplotlib.rcParams`, which is global to the matplotlib package.\n",
        "See `matplotlib.rcParams` for a full list of configurable rcParams.\n",
        "rcParams can be modified directly, for example:\n"
      ]
    },
    {
      "cell_type": "code",
      "execution_count": null,
      "metadata": {
        "id": "PfmLMrhX12N0"
      },
      "outputs": [],
      "source": [
        "from cycler import cycler\n",
        "\n",
        "import matplotlib.pyplot as plt\n",
        "import numpy as np\n",
        "\n",
        "import matplotlib as mpl\n",
        "\n",
        "mpl.rcParams['lines.linewidth'] = 2\n",
        "mpl.rcParams['lines.linestyle'] = '--'\n",
        "data = np.random.randn(50)\n",
        "plt.plot(data)"
      ]
    },
    {
      "cell_type": "markdown",
      "metadata": {
        "id": "VWD_u2s412N1"
      },
      "source": [
        "Note, that in order to change the usual `~.Axes.plot` color you have to\n",
        "change the *prop_cycle* property of *axes*:\n",
        "\n"
      ]
    },
    {
      "cell_type": "code",
      "execution_count": null,
      "metadata": {
        "id": "ggVXRGg_12N1"
      },
      "outputs": [],
      "source": [
        "mpl.rcParams['axes.prop_cycle'] = cycler(color=['r', 'g', 'b', 'y'])\n",
        "plt.plot(data)  # first color is red"
      ]
    },
    {
      "cell_type": "markdown",
      "metadata": {
        "id": "AFdgcPTS12N1"
      },
      "source": [
        "Matplotlib also provides a couple of convenience functions for modifying rc\n",
        "settings. `matplotlib.rc` can be used to modify multiple\n",
        "settings in a single group at once, using keyword arguments:\n",
        "\n"
      ]
    },
    {
      "cell_type": "code",
      "execution_count": null,
      "metadata": {
        "id": "4VJSwWsT12N1"
      },
      "outputs": [],
      "source": [
        "mpl.rc('lines', linewidth=4, linestyle='-.')\n",
        "plt.plot(data)"
      ]
    },
    {
      "cell_type": "markdown",
      "metadata": {
        "id": "4N9ItOCk12N1"
      },
      "source": [
        "### Temporary rc settings\n",
        "\n",
        "The :data:`matplotlib.rcParams` object can also be changed temporarily using\n",
        "the `matplotlib.rc_context` context manager:\n",
        "\n"
      ]
    },
    {
      "cell_type": "code",
      "execution_count": null,
      "metadata": {
        "id": "PedMxtqE12N1"
      },
      "outputs": [],
      "source": [
        "with mpl.rc_context({'lines.linewidth': 2, 'lines.linestyle': ':'}):\n",
        "    plt.plot(data)"
      ]
    },
    {
      "cell_type": "markdown",
      "metadata": {
        "id": "V2cIkX3g12N1"
      },
      "source": [
        "`matplotlib.rc_context` can also be used as a decorator to modify the\n",
        "defaults within a function:\n",
        "\n"
      ]
    },
    {
      "cell_type": "code",
      "execution_count": null,
      "metadata": {
        "id": "vDcZCYBp12N2"
      },
      "outputs": [],
      "source": [
        "@mpl.rc_context({'lines.linewidth': 3, 'lines.linestyle': '-'})\n",
        "def plotting_function():\n",
        "    plt.plot(data)\n",
        "\n",
        "plotting_function()"
      ]
    },
    {
      "cell_type": "markdown",
      "metadata": {
        "id": "krIiUi5j12N2"
      },
      "source": [
        "`matplotlib.rcdefaults` will restore the standard Matplotlib\n",
        "default settings.\n",
        "\n",
        "There is some degree of validation when setting the values of rcParams, see\n",
        ":mod:`matplotlib.rcsetup` for details.\n",
        "\n"
      ]
    },
    {
      "cell_type": "markdown",
      "metadata": {
        "id": "l9nsj2b812N2"
      },
      "source": [
        "\n",
        "## Using style sheets\n",
        "\n",
        "Another way to change the visual appearance of plots is to set the\n",
        "rcParams in a so-called style sheet and import that style sheet with\n",
        "`matplotlib.style.use`. In this way you can switch easily between\n",
        "different styles by simply changing the imported style sheet. A style\n",
        "sheets looks the same as a `matplotlibrc<matplotlibrc-sample>`\n",
        "file, but in a style sheet you can only set rcParams that are related\n",
        "to the actual style of a plot. Other rcParams, like *backend*, will be\n",
        "ignored. :file:`matplotlibrc` files support all rcParams. The\n",
        "rationale behind this is to make style sheets portable between\n",
        "different machines without having to worry about dependencies which\n",
        "might or might not be installed on another machine. For a full list of\n",
        "rcParams see `matplotlib.rcParams`. For a list of rcParams that are\n",
        "ignored in style sheets see `matplotlib.style.use`.\n",
        "\n",
        "There are a number of pre-defined styles :doc:`provided by Matplotlib\n",
        "</gallery/style_sheets/style_sheets_reference>`. For\n",
        "example, there's a pre-defined style called \"ggplot\", which emulates the\n",
        "aesthetics of ggplot_ (a popular plotting package for R_). To use this\n",
        "style, add:\n",
        "\n"
      ]
    },
    {
      "cell_type": "code",
      "execution_count": null,
      "metadata": {
        "id": "ZzWhiZ6r12N2"
      },
      "outputs": [],
      "source": [
        "plt.style.use('ggplot')"
      ]
    },
    {
      "cell_type": "markdown",
      "metadata": {
        "id": "cc1V-Zbu12N2"
      },
      "source": [
        "To list all available styles, use:\n",
        "\n"
      ]
    },
    {
      "cell_type": "code",
      "execution_count": null,
      "metadata": {
        "id": "itZbKrRt12N2"
      },
      "outputs": [],
      "source": [
        "print(plt.style.available)"
      ]
    },
    {
      "cell_type": "markdown",
      "metadata": {
        "id": "_xqCeewp12N2"
      },
      "source": [
        "### Defining your own style\n",
        "\n",
        "You can create custom styles and use them by calling `.style.use` with\n",
        "the path or URL to the style sheet.\n",
        "\n",
        "For example, you might want to create\n",
        "``./images/presentation.mplstyle`` with the following::\n",
        "\n",
        "   axes.titlesize : 24\n",
        "   axes.labelsize : 20\n",
        "   lines.linewidth : 3\n",
        "   lines.markersize : 10\n",
        "   xtick.labelsize : 16\n",
        "   ytick.labelsize : 16\n",
        "\n",
        "Then, when you want to adapt a plot designed for a paper to one that looks\n",
        "good in a presentation, you can just add::\n",
        "\n",
        "   >>> import matplotlib.pyplot as plt\n",
        "   >>> plt.style.use('./images/presentation.mplstyle')\n",
        "\n",
        "\n",
        "### Distributing styles\n",
        "\n",
        "You can include style sheets into standard importable Python packages (which\n",
        "can be e.g. distributed on PyPI).  If your package is importable as\n",
        "``import mypackage``, with a ``mypackage/__init__.py`` module, and you add\n",
        "a ``mypackage/presentation.mplstyle`` style sheet, then it can be used as\n",
        "``plt.style.use(\"mypackage.presentation\")``.  Subpackages (e.g.\n",
        "``dotted.package.name``) are also supported.\n",
        "\n",
        "Alternatively, you can make your style known to Matplotlib by placing\n",
        "your ``<style-name>.mplstyle`` file into ``mpl_configdir/stylelib``.  You\n",
        "can then load your custom style sheet with a call to\n",
        "``style.use(<style-name>)``.  By default ``mpl_configdir`` should be\n",
        "``~/.config/matplotlib``, but you can check where yours is with\n",
        "`matplotlib.get_configdir()`; you may need to create this directory. You\n",
        "also can change the directory where Matplotlib looks for the stylelib/\n",
        "folder by setting the :envvar:`MPLCONFIGDIR` environment variable, see\n",
        "`locating-matplotlib-config-dir`.\n",
        "\n",
        "Note that a custom style sheet in ``mpl_configdir/stylelib`` will override a\n",
        "style sheet defined by Matplotlib if the styles have the same name.\n",
        "\n",
        "Once your ``<style-name>.mplstyle`` file is in the appropriate\n",
        "``mpl_configdir`` you can specify your style with::\n",
        "\n",
        "   >>> import matplotlib.pyplot as plt\n",
        "   >>> plt.style.use(<style-name>)\n",
        "\n",
        "\n",
        "### Composing styles\n",
        "\n",
        "Style sheets are designed to be composed together. So you can have a style\n",
        "sheet that customizes colors and a separate style sheet that alters element\n",
        "sizes for presentations. These styles can easily be combined by passing\n",
        "a list of styles::\n",
        "\n",
        "   >>> import matplotlib.pyplot as plt\n",
        "   >>> plt.style.use(['dark_background', 'presentation'])\n",
        "\n",
        "Note that styles further to the right will overwrite values that are already\n",
        "defined by styles on the left.\n",
        "\n",
        "\n",
        "### Temporary styling\n",
        "\n",
        "If you only want to use a style for a specific block of code but don't want\n",
        "to change the global styling, the style package provides a context manager\n",
        "for limiting your changes to a specific scope. To isolate your styling\n",
        "changes, you can write something like the following:\n",
        "\n"
      ]
    },
    {
      "cell_type": "code",
      "execution_count": null,
      "metadata": {
        "id": "tzj3OWMt12N3"
      },
      "outputs": [],
      "source": [
        "with plt.style.context('dark_background'):\n",
        "    plt.plot(np.sin(np.linspace(0, 2 * np.pi)), 'r-o')\n",
        "plt.show()"
      ]
    },
    {
      "cell_type": "markdown",
      "metadata": {
        "id": "qPgxvgiA12N3"
      },
      "source": [
        "\n",
        "## The :file:`matplotlibrc` file\n",
        "\n",
        "Matplotlib uses :file:`matplotlibrc` configuration files to customize all\n",
        "kinds of properties, which we call 'rc settings' or 'rc parameters'. You can\n",
        "control the defaults of almost every property in Matplotlib: figure size and\n",
        "DPI, line width, color and style, Axes, axis and grid properties, text and\n",
        "font properties and so on. The :file:`matplotlibrc` is read at startup to\n",
        "configure Matplotlib. Matplotlib looks for :file:`matplotlibrc` in four\n",
        "locations, in the following order:\n",
        "\n",
        "1. :file:`matplotlibrc` in the current working directory, usually used for\n",
        "   specific customizations that you do not want to apply elsewhere.\n",
        "\n",
        "2. :file:`$MATPLOTLIBRC` if it is a file, else\n",
        "   :file:`$MATPLOTLIBRC/matplotlibrc`.\n",
        "\n",
        "3. It next looks in a user-specific place, depending on your platform:\n",
        "\n",
        "   - On Linux and FreeBSD, it looks in\n",
        "     :file:`.config/matplotlib/matplotlibrc` (or\n",
        "     :file:`$XDG_CONFIG_HOME/matplotlib/matplotlibrc`) if you've customized\n",
        "     your environment.\n",
        "\n",
        "   - On other platforms, it looks in :file:`.matplotlib/matplotlibrc`.\n",
        "\n",
        "   See `locating-matplotlib-config-dir`.\n",
        "\n",
        "4. :file:`{INSTALL}/matplotlib/mpl-data/matplotlibrc`, where\n",
        "   :file:`{INSTALL}` is something like\n",
        "   :file:`/usr/lib/python3.9/site-packages` on Linux, and maybe\n",
        "   :file:`C:\\\\Python39\\\\Lib\\\\site-packages` on Windows. Every time you\n",
        "   install matplotlib, this file will be overwritten, so if you want\n",
        "   your customizations to be saved, please move this file to your\n",
        "   user-specific matplotlib directory.\n",
        "\n",
        "Once a :file:`matplotlibrc` file has been found, it will *not* search\n",
        "any of the other paths. When a\n",
        "`style sheet<customizing-with-style-sheets>` is given with\n",
        "``style.use('<path>/<style-name>.mplstyle')``, settings specified in\n",
        "the style sheet take precedence over settings in the\n",
        ":file:`matplotlibrc` file.\n",
        "\n",
        "To display where the currently active :file:`matplotlibrc` file was\n",
        "loaded from, one can do the following::\n",
        "\n",
        "  >>> import matplotlib\n",
        "  >>> matplotlib.matplotlib_fname()\n",
        "  '/home/foo/.config/matplotlib/matplotlibrc'\n",
        "\n",
        "See below for a sample `matplotlibrc file<matplotlibrc-sample>`\n",
        "and see `matplotlib.rcParams` for a full list of configurable rcParams.\n",
        "\n",
        "\n",
        "### The default :file:`matplotlibrc` file\n",
        "\n",
        ".. literalinclude:: ../../../lib/matplotlib/mpl-data/matplotlibrc\n",
        "\n",
        "\n",
        "\n"
      ]
    }
  ],
  "metadata": {
    "kernelspec": {
      "display_name": "Python 3",
      "language": "python",
      "name": "python3"
    },
    "language_info": {
      "codemirror_mode": {
        "name": "ipython",
        "version": 3
      },
      "file_extension": ".py",
      "mimetype": "text/x-python",
      "name": "python",
      "nbconvert_exporter": "python",
      "pygments_lexer": "ipython3",
      "version": "3.12.3"
    },
    "colab": {
      "provenance": [],
      "include_colab_link": true
    }
  },
  "nbformat": 4,
  "nbformat_minor": 0
}